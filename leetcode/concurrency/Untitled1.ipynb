{
 "cells": [
  {
   "cell_type": "code",
   "execution_count": 2,
   "metadata": {
    "autoscroll": false,
    "ein.hycell": false,
    "ein.tags": "worksheet-0",
    "slideshow": {
     "slide_type": "-"
    }
   },
   "outputs": [
    {
     "name": "stderr",
     "output_type": "stream",
     "text": [
      "In file included from input_line_1:1:\n",
      "In file included from /home/king-kong/miniconda3/bin/../lib/gcc/../../gcc/include/c++/new:40:\n",
      "In file included from /home/king-kong/miniconda3/bin/../lib/gcc/../../gcc/include/c++/exception:143:\n",
      "In file included from /home/king-kong/miniconda3/bin/../lib/gcc/../../gcc/include/c++/bits/nested_exception.h:40:\n",
      "In file included from /home/king-kong/miniconda3/bin/../lib/gcc/../../gcc/include/c++/bits/move.h:54:\n",
      "\u001b[1m/home/king-kong/miniconda3/bin/../lib/gcc/../../gcc/include/c++/type_traits:1177:48: \u001b[0m\u001b[0;1;31merror: \u001b[0m\u001b[1mno member named 'value' in 'std::is_array<std::allocator<std::_List_node<int> > >'\u001b[0m\n",
      "  template<typename _Tp, bool = is_array<_Tp>::value>\n",
      "\u001b[0;1;32m                                ~~~~~~~~~~~~~~~^\n",
      "\u001b[0m\u001b[1m/home/king-kong/miniconda3/bin/../lib/gcc/../../gcc/include/c++/type_traits:1196:21: \u001b[0m\u001b[0;1;30mnote: \u001b[0min instantiation of default argument for\n",
      "      '__is_nt_default_constructible_impl<std::allocator<std::_List_node<int> > >' required\n",
      "      here\u001b[0m\n",
      "                    __is_nt_default_constructible_impl<_Tp>>\n",
      "\u001b[0;1;32m                    ^~~~~~~~~~~~~~~~~~~~~~~~~~~~~~~~~~~~~~~~\n",
      "\u001b[0m\u001b[1m/home/king-kong/miniconda3/bin/../lib/gcc/../../gcc/include/c++/bits/stl_list.h:591:16: \u001b[0m\u001b[0;1;30mnote: \u001b[0min instantiation of template class\n",
      "      'std::is_nothrow_default_constructible<std::allocator<std::_List_node<int> > >'\n",
      "      requested here\u001b[0m\n",
      "      noexcept(is_nothrow_default_constructible<_Node_alloc_type>::value)\n",
      "\u001b[0;1;32m               ^\n",
      "\u001b[0m\u001b[1minput_line_10:3:20: \u001b[0m\u001b[0;1;30mnote: \u001b[0min instantiation of exception specification for 'list' requested here\u001b[0m\n",
      "    std::list<int> some_list;\n",
      "\u001b[0;1;32m                   ^\n",
      "\u001b[0m\u001b[1minput_line_10:5:37: \u001b[0m\u001b[0;1;31merror: \u001b[0m\u001b[1mfunction definition is not allowed here\u001b[0m\n",
      "    void add_to_list(int new_value) {\n",
      "\u001b[0;1;32m                                    ^\n",
      "\u001b[0m\u001b[1minput_line_10:9:43: \u001b[0m\u001b[0;1;31merror: \u001b[0m\u001b[1mfunction definition is not allowed here\u001b[0m\n",
      "    bool list_contains(int value_to_find) {\n",
      "\u001b[0;1;32m                                          ^\n",
      "\u001b[0mIn file included from input_line_5:1:\n",
      "In file included from /home/king-kong/miniconda3/include/xeus/xinterpreter.hpp:16:\n",
      "In file included from /home/king-kong/miniconda3/include/xeus/xcomm.hpp:14:\n",
      "In file included from /home/king-kong/miniconda3/bin/../lib/gcc/../../gcc/include/c++/list:63:\n",
      "\u001b[1m/home/king-kong/miniconda3/bin/../lib/gcc/../../gcc/include/c++/bits/stl_list.h:352:67: \u001b[0m\u001b[0;1;31merror: \u001b[0m\u001b[1mread-only variable is not assignable\u001b[0m\n",
      "      void _M_set_size(size_t __n) { *_M_impl._M_node._M_valptr() = __n; }\n",
      "\u001b[0;1;32m                                     ~~~~~~~~~~~~~~~~~~~~~~~~~~~~ ^\n",
      "\u001b[0m\u001b[1m/home/king-kong/miniconda3/bin/../lib/gcc/../../gcc/include/c++/bits/stl_list.h:452:2: \u001b[0m\u001b[0;1;30mnote: \u001b[0min instantiation of member function 'std::__cxx11::_List_base<int, std::allocator<int>\n",
      "      >::_M_set_size' requested here\u001b[0m\n",
      "        _M_set_size(0);\n",
      "\u001b[0;1;32m        ^\n",
      "\u001b[0m\u001b[1m/home/king-kong/miniconda3/bin/../lib/gcc/../../gcc/include/c++/bits/stl_list.h:402:9: \u001b[0m\u001b[0;1;30mnote: \u001b[0min instantiation of member function 'std::__cxx11::_List_base<int, std::allocator<int>\n",
      "      >::_M_init' requested here\u001b[0m\n",
      "      { _M_init(); }\n",
      "\u001b[0;1;32m        ^\n",
      "\u001b[0m\u001b[1m/home/king-kong/miniconda3/bin/../lib/gcc/../../gcc/include/c++/bits/stl_list.h:593:9: \u001b[0m\u001b[0;1;30mnote: \u001b[0min instantiation of member function 'std::__cxx11::_List_base<int, std::allocator<int>\n",
      "      >::_List_base' requested here\u001b[0m\n",
      "      : _Base() { }\n",
      "\u001b[0;1;32m        ^\n",
      "\u001b[0m\u001b[1minput_line_10:3:20: \u001b[0m\u001b[0;1;30mnote: \u001b[0min instantiation of member function 'std::__cxx11::list<int, std::allocator<int> >::list'\n",
      "      requested here\u001b[0m\n",
      "    std::list<int> some_list;\n",
      "\u001b[0;1;32m                   ^\n",
      "\u001b[0mIn file included from input_line_1:1:\n",
      "In file included from /home/king-kong/miniconda3/bin/../lib/gcc/../../gcc/include/c++/new:40:\n",
      "In file included from /home/king-kong/miniconda3/bin/../lib/gcc/../../gcc/include/c++/exception:143:\n",
      "In file included from /home/king-kong/miniconda3/bin/../lib/gcc/../../gcc/include/c++/bits/nested_exception.h:40:\n",
      "In file included from /home/king-kong/miniconda3/bin/../lib/gcc/../../gcc/include/c++/bits/move.h:54:\n",
      "\u001b[1m/home/king-kong/miniconda3/bin/../lib/gcc/../../gcc/include/c++/type_traits:144:31: \u001b[0m\u001b[0;1;31merror: \u001b[0m\u001b[1mno member named 'value' in 'std::is_same<std::_List_node<int> *, int *>'\u001b[0m\n",
      "    : public conditional<_B1::value, _B2, _B1>::type\n",
      "\u001b[0;1;32m                         ~~~~~^\n",
      "\u001b[0m\u001b[1m/home/king-kong/miniconda3/bin/../lib/gcc/../../gcc/include/c++/ext/alloc_traits.h:90:38: \u001b[0m\u001b[0;1;30mnote: \u001b[0min instantiation of template class 'std::__and_<std::is_same<std::_List_node<int> *, int *>,\n",
      "      std::__not_<std::is_pointer<int *> > >' requested here\u001b[0m\n",
      "      static typename std::enable_if<__is_custom_pointer<_Ptr>::value>::type\n",
      "\u001b[0;1;32m                                     ^\n",
      "\u001b[0m\u001b[1m/home/king-kong/miniconda3/bin/../lib/gcc/../../gcc/include/c++/bits/list.tcc:76:24: \u001b[0m\u001b[0;1;30mnote: \u001b[0mwhile substituting deduced template arguments into function template 'destroy'\n",
      "      [with _Ptr = int *]\u001b[0m\n",
      "          _Node_alloc_traits::destroy(_M_get_Node_allocator(), __val);\n",
      "\u001b[0;1;32m                              ^\n",
      "\u001b[0m\u001b[1m/home/king-kong/miniconda3/bin/../lib/gcc/../../gcc/include/c++/bits/stl_list.h:442:9: \u001b[0m\u001b[0;1;30mnote: \u001b[0min instantiation of member function 'std::__cxx11::_List_base<int, std::allocator<int>\n",
      "      >::_M_clear' requested here\u001b[0m\n",
      "      { _M_clear(); }\n",
      "\u001b[0;1;32m        ^\n",
      "\u001b[0m\u001b[1m/home/king-kong/miniconda3/bin/../lib/gcc/../../gcc/include/c++/bits/stl_list.h:733:7: \u001b[0m\u001b[0;1;30mnote: \u001b[0min instantiation of member function 'std::__cxx11::_List_base<int, std::allocator<int>\n",
      "      >::~_List_base' requested here\u001b[0m\n",
      "      ~list() = default;\n",
      "\u001b[0;1;32m      ^\n",
      "\u001b[0m"
     ]
    },
    {
     "ename": "Interpreter Error",
     "evalue": "",
     "output_type": "error",
     "traceback": [
      "Interpreter Error: "
     ]
    }
   ],
   "source": [
    "#include <list>\n",
    "#include <mutex>\n",
    "#include <algorithm>\n",
    "\n",
    "{\n",
    "    std::list<int> some_list;\n",
    " std::mutex some_mutex;\n",
    "\n",
    "void add_to_list(int new_value) {\n",
    "    std::lock_guard<std::mutex> guard(some_mutex);\n",
    "    some_list.push_back(new_value);\n",
    "}\n",
    "\n",
    "bool list_contains(int value_to_find) {\n",
    "    std::lock_guard<std::mutex> guard(some_mutex);\n",
    "    return std::find(some_list.begin(), some_list.end(), value_to_find) != some_list.end();\n",
    "}\n"
   ]
  },
  {
   "cell_type": "code",
   "execution_count": 1,
   "metadata": {
    "autoscroll": false,
    "ein.hycell": false,
    "ein.tags": "worksheet-0",
    "slideshow": {
     "slide_type": "-"
    }
   },
   "outputs": [
    {
     "name": "stderr",
     "output_type": "stream",
     "text": [
      "\u001b[1minput_line_8:3:19: \u001b[0m\u001b[0;1;31merror: \u001b[0m\u001b[1mfunction definition is not allowed here\u001b[0m\n",
      "void work(int id) {\n",
      "\u001b[0;1;32m                  ^\n",
      "\u001b[0m"
     ]
    },
    {
     "ename": "Interpreter Error",
     "evalue": "",
     "output_type": "error",
     "traceback": [
      "Interpreter Error: "
     ]
    }
   ],
   "source": [
    "#include <thread>\n",
    "#include <vector>\n",
    "\n",
    "std::vector<int> another_list = {1,2,3,4,5,6,7,8};\n",
    "\n",
    "void work(int id) {\n",
    "    std::cout << \"adding id: \" << id << '\\n';\n",
    "    some_list.emplace_back(id);\n",
    "    list_contains();\n",
    "}"
   ]
  },
  {
   "cell_type": "code",
   "execution_count": null,
   "metadata": {},
   "outputs": [],
   "source": []
  }
 ],
 "metadata": {
  "kernelspec": {
   "display_name": "C++17",
   "language": "C++17",
   "name": "xeus-cling-cpp17"
  },
  "language_info": {
   "codemirror_mode": "text/x-c++src",
   "file_extension": ".cpp",
   "mimetype": "text/x-c++src",
   "name": "c++",
   "version": "17"
  },
  "name": "Untitled1.ipynb"
 },
 "nbformat": 4,
 "nbformat_minor": 2
}
