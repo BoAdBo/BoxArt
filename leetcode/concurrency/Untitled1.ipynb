{
 "cells": [
  {
   "cell_type": "code",
   "execution_count": null,
   "metadata": {
    "autoscroll": false,
    "collapsed": false,
    "ein.hycell": false,
    "ein.tags": "worksheet-0",
    "slideshow": {
     "slide_type": "-"
    }
   },
   "outputs": [],
   "source": [
    "#include <list>\n",
    "#include <mutex>\n",
    "#include <algorithm>\n",
    "\n",
    "std::list<int> some_list;\n",
    "std::mutex some_mutex;"
   ]
  },
  {
   "cell_type": "code",
   "execution_count": null,
   "metadata": {
    "autoscroll": false,
    "collapsed": false,
    "ein.hycell": false,
    "ein.tags": "worksheet-0",
    "slideshow": {
     "slide_type": "-"
    }
   },
   "outputs": [],
   "source": [
    "void add_to_list(int new_value) {\n",
    "    std::lock_guard<std::mutex> guard(some_mutex);\n",
    "    some_list.push_back(new_value);\n",
    "}"
   ]
  },
  {
   "cell_type": "code",
   "execution_count": null,
   "metadata": {
    "autoscroll": false,
    "collapsed": false,
    "ein.hycell": false,
    "ein.tags": "worksheet-0",
    "slideshow": {
     "slide_type": "-"
    }
   },
   "outputs": [],
   "source": [
    "bool list_contains(int value_to_find) {\n",
    "    std::lock_guard<std::mutex> guard(some_mutex);\n",
    "    return std::find(some_list.begin(), some_list.end(), value_to_find) != some_list.end();\n",
    "}\n",
    "\n"
   ]
  },
  {
   "cell_type": "code",
   "execution_count": null,
   "metadata": {
    "autoscroll": false,
    "collapsed": false,
    "ein.hycell": false,
    "ein.tags": "worksheet-0",
    "slideshow": {
     "slide_type": "-"
    }
   },
   "outputs": [],
   "source": [
    "#include <thread>\n",
    "#include <vector>\n",
    "\n",
    "std::vector<int> another_list = {1,2,3,4,5,6,7,8};\n",
    "\n",
    "void work(int id) {\n",
    "    std::cout << \"adding id: \" << id << '\\n';\n",
    "    some_list.emplace_back(id);\n",
    "    list_contains();\n",
    "}"
   ]
  }
 ],
 "metadata": {
  "kernelspec": {
   "display_name": "C++11",
   "name": "xeus-cling-cpp11"
  },
  "name": "Untitled1.ipynb"
 },
 "nbformat": 4,
 "nbformat_minor": 2
}
