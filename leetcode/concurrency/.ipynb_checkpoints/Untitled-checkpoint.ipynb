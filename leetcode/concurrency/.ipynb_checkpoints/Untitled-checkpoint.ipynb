{
 "cells": [
  {
   "cell_type": "code",
   "execution_count": null,
   "metadata": {
    "autoscroll": false,
    "ein.hycell": false,
    "ein.tags": "worksheet-0",
    "slideshow": {
     "slide_type": "-"
    }
   },
   "outputs": [],
   "source": [
    "#include <iostream>\n",
    "#include <thread>\n",
    "\n",
    "void hello() {\n",
    "    std::cout << \"Hello Concurrent World\\n\";\n",
    "}\n",
    "hello();"
   ]
  },
  {
   "cell_type": "code",
   "execution_count": 1,
   "metadata": {
    "autoscroll": false,
    "ein.hycell": false,
    "ein.tags": "worksheet-0",
    "slideshow": {
     "slide_type": "-"
    }
   },
   "outputs": [
    {
     "name": "stdout",
     "output_type": "stream",
     "text": [
      "1\n",
      "2\n",
      "3\n",
      "4\n",
      "5\n",
      "6\n",
      "7\n",
      "8\n",
      "9\n",
      "10\n",
      "11\n",
      "12\n",
      "13\n",
      "14\n",
      "15\n",
      "16\n",
      "17\n",
      "18\n",
      "19\n",
      "20\n",
      "as you can product garbage number right after the code block left the region\n"
     ]
    }
   ],
   "source": [
    "\n",
    "#include <iostream>\n",
    "#include <thread>\n",
    "auto do_something = [] (int i) { std::cout << i << '\\n'; };\n",
    "struct func {\n",
    "    int &i;\n",
    "    func(int &i_) : i(i_) {}\n",
    "\n",
    "    void operator() () {\n",
    "        for ( unsigned j = 0; j < 10; ++ j ) {\n",
    "            std::cout << ++i << '\\n';\n",
    "        }\n",
    "    }\n",
    "};\n",
    "\n",
    "int n = 0;\n",
    "func s(n);\n",
    "{\n",
    "    int some_local_state = 0;\n",
    "    func my_func(some_local_state);\n",
    "    func my_func2(some_local_state);\n",
    "    std::thread my_thread(my_func);\n",
    "    std::thread thread2(my_func2);\n",
    "    my_thread.detach();\n",
    "    thread2.detach();\n",
    "    // my_thread.join();\n",
    "    //some_local_state = -100;\n",
    "}\n",
    "\n",
    "std::cout << \"as you can product garbage number right after the code block left the region\\n\";\n"
   ]
  },
  {
   "cell_type": "code",
   "execution_count": null,
   "metadata": {},
   "outputs": [],
   "source": []
  }
 ],
 "metadata": {
  "kernelspec": {
   "display_name": "C++11",
   "language": "C++11",
   "name": "xeus-cling-cpp11"
  },
  "language_info": {
   "codemirror_mode": "text/x-c++src",
   "file_extension": ".cpp",
   "mimetype": "text/x-c++src",
   "name": "c++",
   "version": "11"
  },
  "name": "Untitled.ipynb"
 },
 "nbformat": 4,
 "nbformat_minor": 2
}
