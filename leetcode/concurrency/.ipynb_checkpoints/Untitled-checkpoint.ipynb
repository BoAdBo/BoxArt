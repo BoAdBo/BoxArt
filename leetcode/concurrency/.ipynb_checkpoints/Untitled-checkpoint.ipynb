{
 "cells": [
  {
   "cell_type": "code",
   "execution_count": 1,
   "metadata": {
    "autoscroll": false,
    "collapsed": false,
    "ein.hycell": false,
    "ein.tags": "worksheet-0",
    "slideshow": {
     "slide_type": "-"
    }
   },
   "outputs": [
    {
     "name": "stdout",
     "output_type": "stream",
     "text": [
      "Hello Concurrent World\n"
     ]
    }
   ],
   "source": [
    "#include <iostream>\n",
    "#include <thread>\n",
    "\n",
    "void hello() {\n",
    "    std::cout << \"Hello Concurrent World\\n\";\n",
    "}\n",
    "hello();"
   ]
  },
  {
   "cell_type": "code",
   "execution_count": null,
   "metadata": {
    "autoscroll": false,
    "collapsed": false,
    "ein.hycell": false,
    "ein.tags": "worksheet-0",
    "slideshow": {
     "slide_type": "-"
    }
   },
   "outputs": [],
   "source": [
    "\n",
    "#include <iostream>\n",
    "#include <thread>\n",
    "auto do_something = [] (int i) { std::cout << i << '\\n'; };\n",
    "struct func {\n",
    "    int &i;\n",
    "    func(int &i_) : i(i_) {}\n",
    "\n",
    "    void operator() () {\n",
    "        for ( unsigned j = 0; j < 10; ++ j ) {\n",
    "            std::cout << ++i << '\\n';\n",
    "        }\n",
    "    }\n",
    "};\n",
    "\n",
    "int n = 0;\n",
    "func s(n);\n",
    "{\n",
    "    int some_local_state = 0;\n",
    "    func my_func(some_local_state);\n",
    "    std::thread my_thread(my_func);\n",
    "    my_thread.detach();\n",
    "    // my_thread.join();\n",
    "    some_local_state = -100;\n",
    "}\n",
    "\n",
    "std::cout << \"as you can product garbage number right after the code block left the region\\n\";\n"
   ]
  }
 ],
 "metadata": {
  "kernelspec": {
   "display_name": "C++11",
   "name": "xeus-cling-cpp11"
  },
  "language_info": {
   "codemirror_mode": "text/x-c++src",
   "file_extension": ".cpp",
   "mimetype": "text/x-c++src",
   "name": "c++",
   "version": "11"
  },
  "name": "Untitled.ipynb"
 },
 "nbformat": 4,
 "nbformat_minor": 2
}
