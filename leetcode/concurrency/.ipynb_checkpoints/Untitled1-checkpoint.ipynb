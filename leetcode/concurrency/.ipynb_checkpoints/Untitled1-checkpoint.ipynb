{
 "cells": [
  {
   "cell_type": "code",
   "execution_count": 2,
   "metadata": {
    "autoscroll": false,
    "ein.hycell": false,
    "ein.tags": "worksheet-0",
    "slideshow": {
     "slide_type": "-"
    }
   },
   "outputs": [
    {
     "name": "stderr",
     "output_type": "stream",
     "text": [
      "\u001b[1minput_line_10:5:33: \u001b[0m\u001b[0;1;31merror: \u001b[0m\u001b[1mfunction definition is not allowed here\u001b[0m\n",
      "void add_to_list(int new_value) {\n",
      "\u001b[0;1;32m                                ^\n",
      "\u001b[0m\u001b[1minput_line_10:9:39: \u001b[0m\u001b[0;1;31merror: \u001b[0m\u001b[1mfunction definition is not allowed here\u001b[0m\n",
      "bool list_contains(int value_to_find) {\n",
      "\u001b[0;1;32m                                      ^\n",
      "\u001b[0mIn file included from input_line_5:1:\n",
      "In file included from /home/king-kong/miniconda3/include/xeus/xinterpreter.hpp:16:\n",
      "In file included from /home/king-kong/miniconda3/include/xeus/xcomm.hpp:14:\n",
      "In file included from /home/king-kong/miniconda3/bin/../lib/gcc/../../gcc/include/c++/list:63:\n",
      "\u001b[1m/home/king-kong/miniconda3/bin/../lib/gcc/../../gcc/include/c++/bits/stl_list.h:352:67: \u001b[0m\u001b[0;1;31merror: \u001b[0m\u001b[1mread-only variable is not assignable\u001b[0m\n",
      "      void _M_set_size(size_t __n) { *_M_impl._M_node._M_valptr() = __n; }\n",
      "\u001b[0;1;32m                                     ~~~~~~~~~~~~~~~~~~~~~~~~~~~~ ^\n",
      "\u001b[0m\u001b[1m/home/king-kong/miniconda3/bin/../lib/gcc/../../gcc/include/c++/bits/stl_list.h:452:2: \u001b[0m\u001b[0;1;30mnote: \u001b[0min instantiation of member function 'std::__cxx11::_List_base<int, std::allocator<int>\n",
      "      >::_M_set_size' requested here\u001b[0m\n",
      "        _M_set_size(0);\n",
      "\u001b[0;1;32m        ^\n",
      "\u001b[0m\u001b[1m/home/king-kong/miniconda3/bin/../lib/gcc/../../gcc/include/c++/bits/stl_list.h:402:9: \u001b[0m\u001b[0;1;30mnote: \u001b[0min instantiation of member function 'std::__cxx11::_List_base<int, std::allocator<int>\n",
      "      >::_M_init' requested here\u001b[0m\n",
      "      { _M_init(); }\n",
      "\u001b[0;1;32m        ^\n",
      "\u001b[0m\u001b[1m/home/king-kong/miniconda3/bin/../lib/gcc/../../gcc/include/c++/bits/stl_list.h:593:9: \u001b[0m\u001b[0;1;30mnote: \u001b[0min instantiation of member function 'std::__cxx11::_List_base<int, std::allocator<int>\n",
      "      >::_List_base' requested here\u001b[0m\n",
      "      : _Base() { }\n",
      "\u001b[0;1;32m        ^\n",
      "\u001b[0m\u001b[1minput_line_10:3:16: \u001b[0m\u001b[0;1;30mnote: \u001b[0min instantiation of member function 'std::__cxx11::list<int, std::allocator<int> >::list'\n",
      "      requested here\u001b[0m\n",
      "std::list<int> some_list;\n",
      "\u001b[0;1;32m               ^\n",
      "\u001b[0m"
     ]
    },
    {
     "ename": "Interpreter Error",
     "evalue": "",
     "output_type": "error",
     "traceback": [
      "Interpreter Error: "
     ]
    }
   ],
   "source": [
    "#include <list>\n",
    "#include <mutex>\n",
    "#include <algorithm>\n",
    "\n",
    "{\n",
    "    std::list<int> some_list;\n",
    "    std::mutex some_mutex;\n",
    "\n",
    "    void add_to_list(int new_value) {\n",
    "        std::lock_guard<std::mutex> guard(some_mutex);\n",
    "        some_list.push_back(new_value);\n",
    "    }\n",
    "\n",
    "    bool list_contains(int value_to_find) {\n",
    "        std::lock_guard<std::mutex> guard(some_mutex);\n",
    "        return std::find(some_list.begin(), some_list.end(), value_to_find) != some_list.end();\n",
    "    }\n",
    "\n",
    "}"
   ]
  },
  {
   "cell_type": "code",
   "execution_count": null,
   "metadata": {
    "autoscroll": false,
    "ein.hycell": false,
    "ein.tags": "worksheet-0",
    "slideshow": {
     "slide_type": "-"
    }
   },
   "outputs": [],
   "source": [
    "#include <thread>\n",
    "#include <vector>\n",
    "\n",
    "std::vector<int> another_list = {1,2,3,4,5,6,7,8};\n",
    "\n",
    "void work(int id) {\n",
    "    std::cout << \"adding id: \" << id << '\\n';\n",
    "    some_list.emplace_back(id);\n",
    "    list_contains();\n",
    "}"
   ]
  }
 ],
 "metadata": {
  "kernelspec": {
   "display_name": "C++11",
   "language": "C++11",
   "name": "xeus-cling-cpp11"
  },
  "language_info": {
   "codemirror_mode": "text/x-c++src",
   "file_extension": ".cpp",
   "mimetype": "text/x-c++src",
   "name": "c++",
   "version": "11"
  },
  "name": "Untitled1.ipynb"
 },
 "nbformat": 4,
 "nbformat_minor": 2
}
